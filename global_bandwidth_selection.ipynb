{
 "cells": [
  {
   "cell_type": "markdown",
   "id": "c72d16c7",
   "metadata": {},
   "source": [
    "# Practical Exercice: Global bandwidth selection"
   ]
  }
 ],
 "metadata": {
  "language_info": {
   "name": "python"
  }
 },
 "nbformat": 4,
 "nbformat_minor": 5
}
